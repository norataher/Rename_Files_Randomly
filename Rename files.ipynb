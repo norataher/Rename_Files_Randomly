{
 "cells": [
  {
   "cell_type": "markdown",
   "metadata": {},
   "source": [
    "<img src=\"thanos.jpg\">"
   ]
  },
  {
   "cell_type": "code",
   "execution_count": 114,
   "metadata": {},
   "outputs": [],
   "source": [
    "#importing the used libraries\n",
    "import random \n",
    "import os"
   ]
  },
  {
   "cell_type": "code",
   "execution_count": 118,
   "metadata": {},
   "outputs": [
    {
     "data": {
      "text/plain": [
       "['photo42.png',\n",
       " 'photo43.png',\n",
       " 'photo44.png',\n",
       " 'photo45.png',\n",
       " 'photo46.png',\n",
       " 'photo47.png',\n",
       " 'photo48.png',\n",
       " 'photo49.png',\n",
       " 'photo50.png',\n",
       " 'photo51.png',\n",
       " 'photo52.png',\n",
       " 'photo53.png',\n",
       " 'photo54.png',\n",
       " 'photo55.png',\n",
       " 'photo56.png',\n",
       " 'photo57.png',\n",
       " 'photo58.png',\n",
       " 'photo59.png',\n",
       " 'photo60.png',\n",
       " 'photo61.png',\n",
       " 'photo62.png',\n",
       " 'photo63.png',\n",
       " 'photo64.png',\n",
       " 'photo65.png',\n",
       " 'photo66.png',\n",
       " 'photo67.png',\n",
       " 'photo68.png',\n",
       " 'photo69.png',\n",
       " 'photo70.png',\n",
       " 'photo71.png',\n",
       " 'photo72.png',\n",
       " 'photo73.png',\n",
       " 'photo74.png',\n",
       " 'photo75.png',\n",
       " 'photo76.png',\n",
       " 'photo77.png',\n",
       " 'photo78.png',\n",
       " 'photo79.png',\n",
       " 'photo80.png',\n",
       " 'photo81.png',\n",
       " 'photo82.png',\n",
       " 'photo83.png',\n",
       " 'photo84.png',\n",
       " 'photo85.png',\n",
       " 'photo86.png',\n",
       " 'photo87.png',\n",
       " 'photo88.png',\n",
       " 'photo89.png',\n",
       " 'photo90.png',\n",
       " 'photo91.png']"
      ]
     },
     "execution_count": 118,
     "metadata": {},
     "output_type": "execute_result"
    }
   ],
   "source": [
    "os.listdir('C:/Visual studio/Rename Random/universe') "
   ]
  },
  {
   "cell_type": "code",
   "execution_count": 119,
   "metadata": {},
   "outputs": [],
   "source": [
    "def get_universe_files(place):\n",
    "    files = os.listdir(place)\n",
    "    return files"
   ]
  },
  {
   "cell_type": "code",
   "execution_count": 120,
   "metadata": {},
   "outputs": [
    {
     "data": {
      "text/plain": [
       "['photo42.png',\n",
       " 'photo43.png',\n",
       " 'photo44.png',\n",
       " 'photo45.png',\n",
       " 'photo46.png',\n",
       " 'photo47.png',\n",
       " 'photo48.png',\n",
       " 'photo49.png',\n",
       " 'photo50.png',\n",
       " 'photo51.png',\n",
       " 'photo52.png',\n",
       " 'photo53.png',\n",
       " 'photo54.png',\n",
       " 'photo55.png',\n",
       " 'photo56.png',\n",
       " 'photo57.png',\n",
       " 'photo58.png',\n",
       " 'photo59.png',\n",
       " 'photo60.png',\n",
       " 'photo61.png',\n",
       " 'photo62.png',\n",
       " 'photo63.png',\n",
       " 'photo64.png',\n",
       " 'photo65.png',\n",
       " 'photo66.png',\n",
       " 'photo67.png',\n",
       " 'photo68.png',\n",
       " 'photo69.png',\n",
       " 'photo70.png',\n",
       " 'photo71.png',\n",
       " 'photo72.png',\n",
       " 'photo73.png',\n",
       " 'photo74.png',\n",
       " 'photo75.png',\n",
       " 'photo76.png',\n",
       " 'photo77.png',\n",
       " 'photo78.png',\n",
       " 'photo79.png',\n",
       " 'photo80.png',\n",
       " 'photo81.png',\n",
       " 'photo82.png',\n",
       " 'photo83.png',\n",
       " 'photo84.png',\n",
       " 'photo85.png',\n",
       " 'photo86.png',\n",
       " 'photo87.png',\n",
       " 'photo88.png',\n",
       " 'photo89.png',\n",
       " 'photo90.png',\n",
       " 'photo91.png']"
      ]
     },
     "execution_count": 120,
     "metadata": {},
     "output_type": "execute_result"
    }
   ],
   "source": [
    "# See how our universe looks\n",
    "universe = get_universe_files('C:/Visual studio/Rename Random/universe')\n",
    "universe"
   ]
  },
  {
   "cell_type": "markdown",
   "metadata": {},
   "source": [
    "Start rename the files"
   ]
  },
  {
   "cell_type": "code",
   "execution_count": 127,
   "metadata": {},
   "outputs": [],
   "source": [
    "def Rename_files (universe):\n",
    "    path=os.chdir('C:/Visual studio/Rename Random/universe')\n",
    "    i=random.randint(1,100)\n",
    "    for r in os.listdir(path):\n",
    "        new_file_name = \"The photo no. {}.png\".format(i)\n",
    "        os.rename(r,new_file_name)\n",
    "        i=i+1\n"
   ]
  },
  {
   "cell_type": "code",
   "execution_count": 128,
   "metadata": {},
   "outputs": [],
   "source": [
    "Rename_files(universe)\n"
   ]
  },
  {
   "cell_type": "code",
   "execution_count": 129,
   "metadata": {},
   "outputs": [
    {
     "data": {
      "text/plain": [
       "['The photo no. 100.png',\n",
       " 'The photo no. 101.png',\n",
       " 'The photo no. 102.png',\n",
       " 'The photo no. 103.png',\n",
       " 'The photo no. 104.png',\n",
       " 'The photo no. 105.png',\n",
       " 'The photo no. 106.png',\n",
       " 'The photo no. 107.png',\n",
       " 'The photo no. 108.png',\n",
       " 'The photo no. 109.png',\n",
       " 'The photo no. 110.png',\n",
       " 'The photo no. 111.png',\n",
       " 'The photo no. 112.png',\n",
       " 'The photo no. 113.png',\n",
       " 'The photo no. 114.png',\n",
       " 'The photo no. 115.png',\n",
       " 'The photo no. 116.png',\n",
       " 'The photo no. 117.png',\n",
       " 'The photo no. 118.png',\n",
       " 'The photo no. 119.png',\n",
       " 'The photo no. 120.png',\n",
       " 'The photo no. 121.png',\n",
       " 'The photo no. 122.png',\n",
       " 'The photo no. 123.png',\n",
       " 'The photo no. 124.png',\n",
       " 'The photo no. 125.png',\n",
       " 'The photo no. 126.png',\n",
       " 'The photo no. 127.png',\n",
       " 'The photo no. 128.png',\n",
       " 'The photo no. 129.png',\n",
       " 'The photo no. 130.png',\n",
       " 'The photo no. 131.png',\n",
       " 'The photo no. 132.png',\n",
       " 'The photo no. 133.png',\n",
       " 'The photo no. 134.png',\n",
       " 'The photo no. 135.png',\n",
       " 'The photo no. 136.png',\n",
       " 'The photo no. 137.png',\n",
       " 'The photo no. 138.png',\n",
       " 'The photo no. 139.png',\n",
       " 'The photo no. 140.png',\n",
       " 'The photo no. 91.png',\n",
       " 'The photo no. 92.png',\n",
       " 'The photo no. 93.png',\n",
       " 'The photo no. 94.png',\n",
       " 'The photo no. 95.png',\n",
       " 'The photo no. 96.png',\n",
       " 'The photo no. 97.png',\n",
       " 'The photo no. 98.png',\n",
       " 'The photo no. 99.png']"
      ]
     },
     "execution_count": 129,
     "metadata": {},
     "output_type": "execute_result"
    }
   ],
   "source": [
    "new_universe = get_universe_files('C:/Visual studio/Rename Random/universe')\n",
    "new_universe"
   ]
  },
  {
   "cell_type": "code",
   "execution_count": null,
   "metadata": {},
   "outputs": [],
   "source": []
  }
 ],
 "metadata": {
  "kernelspec": {
   "display_name": "Python 3",
   "language": "python",
   "name": "python3"
  },
  "language_info": {
   "codemirror_mode": {
    "name": "ipython",
    "version": 3
   },
   "file_extension": ".py",
   "mimetype": "text/x-python",
   "name": "python",
   "nbconvert_exporter": "python",
   "pygments_lexer": "ipython3",
   "version": "3.8.8"
  }
 },
 "nbformat": 4,
 "nbformat_minor": 2
}
